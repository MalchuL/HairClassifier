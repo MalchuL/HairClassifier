{
 "cells": [
  {
   "cell_type": "code",
   "execution_count": 2,
   "id": "d14a1659",
   "metadata": {},
   "outputs": [
    {
     "name": "stdout",
     "output_type": "stream",
     "text": [
      "gamma for exp lr: 0.8608916593317348\n"
     ]
    }
   ],
   "source": [
    "# Exponential LR gamma\n",
    "import numpy as np\n",
    "MAX_LR = 2e-4\n",
    "MIN_LR = 1e-5\n",
    "EPOCHES = 20\n",
    "\n",
    "\n",
    "gamma =  np.power(MIN_LR / MAX_LR, 1 / EPOCHES)\n",
    "print('gamma for exp lr:', gamma)"
   ]
  },
  {
   "cell_type": "code",
   "execution_count": null,
   "id": "39130b92",
   "metadata": {},
   "outputs": [],
   "source": []
  }
 ],
 "metadata": {
  "kernelspec": {
   "display_name": "Python 3",
   "language": "python",
   "name": "python3"
  },
  "language_info": {
   "codemirror_mode": {
    "name": "ipython",
    "version": 3
   },
   "file_extension": ".py",
   "mimetype": "text/x-python",
   "name": "python",
   "nbconvert_exporter": "python",
   "pygments_lexer": "ipython3",
   "version": "3.7.5"
  }
 },
 "nbformat": 4,
 "nbformat_minor": 5
}
